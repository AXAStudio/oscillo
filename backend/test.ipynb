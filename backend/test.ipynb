{
 "cells": [
  {
   "cell_type": "code",
   "execution_count": 3,
   "id": "c2b08ce7",
   "metadata": {},
   "outputs": [
    {
     "name": "stdout",
     "output_type": "stream",
     "text": [
      "Requirement already satisfied: supabase in c:\\users\\andres alonso\\appdata\\local\\programs\\python\\python313\\lib\\site-packages (2.18.1)\n",
      "Requirement already satisfied: postgrest==1.1.1 in c:\\users\\andres alonso\\appdata\\local\\programs\\python\\python313\\lib\\site-packages (from supabase) (1.1.1)\n",
      "Requirement already satisfied: realtime==2.7.0 in c:\\users\\andres alonso\\appdata\\local\\programs\\python\\python313\\lib\\site-packages (from supabase) (2.7.0)\n",
      "Requirement already satisfied: supabase-auth==2.12.3 in c:\\users\\andres alonso\\appdata\\local\\programs\\python\\python313\\lib\\site-packages (from supabase) (2.12.3)\n",
      "Requirement already satisfied: storage3==0.12.1 in c:\\users\\andres alonso\\appdata\\local\\programs\\python\\python313\\lib\\site-packages (from supabase) (0.12.1)\n",
      "Requirement already satisfied: supabase-functions==0.10.1 in c:\\users\\andres alonso\\appdata\\local\\programs\\python\\python313\\lib\\site-packages (from supabase) (0.10.1)\n",
      "Requirement already satisfied: httpx<0.29,>=0.26 in c:\\users\\andres alonso\\appdata\\local\\programs\\python\\python313\\lib\\site-packages (from supabase) (0.28.1)\n",
      "Requirement already satisfied: deprecation<3.0.0,>=2.1.0 in c:\\users\\andres alonso\\appdata\\local\\programs\\python\\python313\\lib\\site-packages (from postgrest==1.1.1->supabase) (2.1.0)\n",
      "Requirement already satisfied: pydantic<3.0,>=1.9 in c:\\users\\andres alonso\\appdata\\local\\programs\\python\\python313\\lib\\site-packages (from postgrest==1.1.1->supabase) (2.11.7)\n",
      "Requirement already satisfied: typing-extensions>=4.14.0 in c:\\users\\andres alonso\\appdata\\local\\programs\\python\\python313\\lib\\site-packages (from realtime==2.7.0->supabase) (4.14.1)\n",
      "Requirement already satisfied: websockets<16,>=11 in c:\\users\\andres alonso\\appdata\\local\\programs\\python\\python313\\lib\\site-packages (from realtime==2.7.0->supabase) (15.0.1)\n",
      "Requirement already satisfied: python-dateutil<3.0.0,>=2.8.2 in c:\\users\\andres alonso\\appdata\\roaming\\python\\python313\\site-packages (from storage3==0.12.1->supabase) (2.9.0.post0)\n",
      "Requirement already satisfied: pyjwt<3.0.0,>=2.10.1 in c:\\users\\andres alonso\\appdata\\local\\programs\\python\\python313\\lib\\site-packages (from supabase-auth==2.12.3->supabase) (2.10.1)\n",
      "Requirement already satisfied: strenum<0.5.0,>=0.4.15 in c:\\users\\andres alonso\\appdata\\local\\programs\\python\\python313\\lib\\site-packages (from supabase-functions==0.10.1->supabase) (0.4.15)\n",
      "Requirement already satisfied: anyio in c:\\users\\andres alonso\\appdata\\local\\programs\\python\\python313\\lib\\site-packages (from httpx<0.29,>=0.26->supabase) (4.10.0)\n",
      "Requirement already satisfied: certifi in c:\\users\\andres alonso\\appdata\\local\\programs\\python\\python313\\lib\\site-packages (from httpx<0.29,>=0.26->supabase) (2025.8.3)\n",
      "Requirement already satisfied: httpcore==1.* in c:\\users\\andres alonso\\appdata\\local\\programs\\python\\python313\\lib\\site-packages (from httpx<0.29,>=0.26->supabase) (1.0.9)\n",
      "Requirement already satisfied: idna in c:\\users\\andres alonso\\appdata\\local\\programs\\python\\python313\\lib\\site-packages (from httpx<0.29,>=0.26->supabase) (3.10)\n",
      "Requirement already satisfied: h11>=0.16 in c:\\users\\andres alonso\\appdata\\local\\programs\\python\\python313\\lib\\site-packages (from httpcore==1.*->httpx<0.29,>=0.26->supabase) (0.16.0)\n",
      "Requirement already satisfied: packaging in c:\\users\\andres alonso\\appdata\\roaming\\python\\python313\\site-packages (from deprecation<3.0.0,>=2.1.0->postgrest==1.1.1->supabase) (25.0)\n",
      "Requirement already satisfied: h2<5,>=3 in c:\\users\\andres alonso\\appdata\\local\\programs\\python\\python313\\lib\\site-packages (from httpx[http2]<0.29,>=0.26->postgrest==1.1.1->supabase) (4.2.0)\n",
      "Requirement already satisfied: annotated-types>=0.6.0 in c:\\users\\andres alonso\\appdata\\local\\programs\\python\\python313\\lib\\site-packages (from pydantic<3.0,>=1.9->postgrest==1.1.1->supabase) (0.7.0)\n",
      "Requirement already satisfied: pydantic-core==2.33.2 in c:\\users\\andres alonso\\appdata\\local\\programs\\python\\python313\\lib\\site-packages (from pydantic<3.0,>=1.9->postgrest==1.1.1->supabase) (2.33.2)\n",
      "Requirement already satisfied: typing-inspection>=0.4.0 in c:\\users\\andres alonso\\appdata\\local\\programs\\python\\python313\\lib\\site-packages (from pydantic<3.0,>=1.9->postgrest==1.1.1->supabase) (0.4.1)\n",
      "Requirement already satisfied: six>=1.5 in c:\\users\\andres alonso\\appdata\\roaming\\python\\python313\\site-packages (from python-dateutil<3.0.0,>=2.8.2->storage3==0.12.1->supabase) (1.17.0)\n",
      "Requirement already satisfied: sniffio>=1.1 in c:\\users\\andres alonso\\appdata\\local\\programs\\python\\python313\\lib\\site-packages (from anyio->httpx<0.29,>=0.26->supabase) (1.3.1)\n",
      "Requirement already satisfied: hyperframe<7,>=6.1 in c:\\users\\andres alonso\\appdata\\local\\programs\\python\\python313\\lib\\site-packages (from h2<5,>=3->httpx[http2]<0.29,>=0.26->postgrest==1.1.1->supabase) (6.1.0)\n",
      "Requirement already satisfied: hpack<5,>=4.1 in c:\\users\\andres alonso\\appdata\\local\\programs\\python\\python313\\lib\\site-packages (from h2<5,>=3->httpx[http2]<0.29,>=0.26->postgrest==1.1.1->supabase) (4.1.0)\n",
      "Note: you may need to restart the kernel to use updated packages.\n"
     ]
    },
    {
     "name": "stderr",
     "output_type": "stream",
     "text": [
      "\n",
      "[notice] A new release of pip is available: 24.2 -> 25.2\n",
      "[notice] To update, run: python.exe -m pip install --upgrade pip\n"
     ]
    }
   ],
   "source": [
    "%pip install supabase\n",
    "\n",
    "import requests\n",
    "import pandas as pd\n",
    "\n",
    "from io import StringIO\n",
    "\n",
    "import supabase\n"
   ]
  },
  {
   "cell_type": "code",
   "execution_count": 47,
   "id": "1485f66e",
   "metadata": {},
   "outputs": [],
   "source": [
    "base_url = \"http://127.0.0.1:8000/\"\n",
    "market_data_endpoint = base_url + \"market-data/\""
   ]
  },
  {
   "cell_type": "code",
   "execution_count": 48,
   "id": "4a5e4db2",
   "metadata": {},
   "outputs": [
    {
     "data": {
      "text/plain": [
       "{'TSLA':                                 Close        High         Low        Open  \\\n",
       " 2025-08-15 13:30:00+00:00  332.899994  339.299988  331.850006  337.654999   \n",
       " 2025-08-15 14:30:00+00:00  332.905792  333.799896  331.880005  332.885010   \n",
       " 2025-08-15 15:30:00+00:00  327.940002  333.554993  327.019989  332.875000   \n",
       " 2025-08-15 16:30:00+00:00  330.899994  331.429596  327.934998  327.934998   \n",
       " 2025-08-15 17:30:00+00:00  329.829987  331.699890  329.339996  330.880096   \n",
       " 2025-08-15 18:30:00+00:00  329.059998  330.119995  328.000000  329.832794   \n",
       " 2025-08-15 19:30:00+00:00  330.600006  330.670013  328.570007  329.089996   \n",
       " \n",
       "                              Volume  \n",
       " 2025-08-15 13:30:00+00:00  18871909  \n",
       " 2025-08-15 14:30:00+00:00   8164869  \n",
       " 2025-08-15 15:30:00+00:00  12912763  \n",
       " 2025-08-15 16:30:00+00:00   9426179  \n",
       " 2025-08-15 17:30:00+00:00   6017263  \n",
       " 2025-08-15 18:30:00+00:00   7713775  \n",
       " 2025-08-15 19:30:00+00:00   6091565  ,\n",
       " 'AMZN':                                 Close        High         Low        Open  \\\n",
       " 2025-08-15 13:30:00+00:00  232.230103  234.059998  231.210007  232.500000   \n",
       " 2025-08-15 14:30:00+00:00  231.399994  232.439896  231.270004  232.250000   \n",
       " 2025-08-15 15:30:00+00:00  230.009995  231.360001  229.807007  231.330002   \n",
       " 2025-08-15 16:30:00+00:00  230.190002  230.619995  229.910004  230.009995   \n",
       " 2025-08-15 17:30:00+00:00  230.410004  231.014999  230.149994  230.190002   \n",
       " 2025-08-15 18:30:00+00:00  230.764999  230.809906  230.089996  230.399994   \n",
       " 2025-08-15 19:30:00+00:00  231.059998  231.235001  230.565002  230.759995   \n",
       " \n",
       "                              Volume  \n",
       " 2025-08-15 13:30:00+00:00  13517206  \n",
       " 2025-08-15 14:30:00+00:00   4416877  \n",
       " 2025-08-15 15:30:00+00:00   4197322  \n",
       " 2025-08-15 16:30:00+00:00   2665233  \n",
       " 2025-08-15 17:30:00+00:00   2668707  \n",
       " 2025-08-15 18:30:00+00:00   3125704  \n",
       " 2025-08-15 19:30:00+00:00   4653208  }"
      ]
     },
     "execution_count": 48,
     "metadata": {},
     "output_type": "execute_result"
    }
   ],
   "source": [
    "resp = requests.get(market_data_endpoint + \"historical?tickers=TSLA,AMZN&period=1d&interval=60m\").json()\n",
    "\n",
    "res = {}\n",
    "for ticker, df_json in resp.items():\n",
    "    res[ticker] = pd.read_json(\n",
    "        StringIO(df_json),\n",
    "        orient='index',\n",
    "        convert_dates=True\n",
    "    )\n",
    "\n",
    "res"
   ]
  },
  {
   "cell_type": "code",
   "execution_count": 49,
   "id": "1609d158",
   "metadata": {},
   "outputs": [
    {
     "data": {
      "text/plain": [
       "{'TSLA': {'Datetime': '2025-08-15T15:59:00-04:00',\n",
       "  'Open': 330.0799865722656,\n",
       "  'High': 330.6700134277344,\n",
       "  'Low': 329.9949951171875,\n",
       "  'Close': 330.6000061035156,\n",
       "  'Volume': 916453,\n",
       "  'Dividends': 0.0,\n",
       "  'Stock Splits': 0.0},\n",
       " 'AMZN': {'Datetime': '2025-08-15T15:59:00-04:00',\n",
       "  'Open': 230.97000122070312,\n",
       "  'High': 231.1199951171875,\n",
       "  'Low': 230.92999267578125,\n",
       "  'Close': 231.05999755859375,\n",
       "  'Volume': 790218,\n",
       "  'Dividends': 0.0,\n",
       "  'Stock Splits': 0.0}}"
      ]
     },
     "execution_count": 49,
     "metadata": {},
     "output_type": "execute_result"
    }
   ],
   "source": [
    "resp = requests.get(market_data_endpoint + \"prices?tickers=TSLA,AMZN\").json()\n",
    "resp"
   ]
  },
  {
   "cell_type": "code",
   "execution_count": 8,
   "id": "3db63a25",
   "metadata": {},
   "outputs": [
    {
     "name": "stdout",
     "output_type": "stream",
     "text": [
      "Collecting dotenv\n",
      "  Downloading dotenv-0.9.9-py2.py3-none-any.whl.metadata (279 bytes)\n",
      "Collecting python-dotenv (from dotenv)\n",
      "  Downloading python_dotenv-1.1.1-py3-none-any.whl.metadata (24 kB)\n",
      "Downloading dotenv-0.9.9-py2.py3-none-any.whl (1.9 kB)\n",
      "Downloading python_dotenv-1.1.1-py3-none-any.whl (20 kB)\n",
      "Installing collected packages: python-dotenv, dotenv\n",
      "Successfully installed dotenv-0.9.9 python-dotenv-1.1.1\n",
      "Note: you may need to restart the kernel to use updated packages.\n"
     ]
    },
    {
     "name": "stderr",
     "output_type": "stream",
     "text": [
      "  WARNING: The script dotenv.exe is installed in 'c:\\Users\\Andres Alonso\\AppData\\Local\\Programs\\Python\\Python313\\Scripts' which is not on PATH.\n",
      "  Consider adding this directory to PATH or, if you prefer to suppress this warning, use --no-warn-script-location.\n",
      "\n",
      "[notice] A new release of pip is available: 24.2 -> 25.2\n",
      "[notice] To update, run: python.exe -m pip install --upgrade pip\n"
     ]
    }
   ],
   "source": [
    "%pip install dotenv"
   ]
  },
  {
   "cell_type": "code",
   "execution_count": 6,
   "id": "190f3eb3",
   "metadata": {},
   "outputs": [
    {
     "data": {
      "text/plain": [
       "True"
      ]
     },
     "execution_count": 6,
     "metadata": {},
     "output_type": "execute_result"
    }
   ],
   "source": [
    "import os\n",
    "from supabase import create_client, Client\n",
    "from dotenv import load_dotenv\n",
    "\n",
    "load_dotenv()"
   ]
  },
  {
   "cell_type": "code",
   "execution_count": null,
   "id": "43672ec9",
   "metadata": {},
   "outputs": [
    {
     "name": "stdout",
     "output_type": "stream",
     "text": [
      "✅ Logged in as test@example.com\n",
      "Access Token: eyJhbGciOiJIUzI1NiIs...\n",
      "\n",
      "Status: 404\n",
      "{\n",
      "    \"detail\": \"Not Found\"\n",
      "}\n"
     ]
    }
   ],
   "source": [
    "# test_portfolios.py\n",
    "import requests\n",
    "import os\n",
    "import json\n",
    "\n",
    "\n",
    "# --------------------\n",
    "# CONFIG\n",
    "# --------------------\n",
    "SUPABASE_URL = os.getenv(\"SUPABASE_URL\")\n",
    "SUPABASE_KEY = os.getenv(\"SUPABASE_SERVICE_ROLE_KEY\")  # or anon key if email/password login\n",
    "BASE_URL = \"http://127.0.0.1:8000/api/1.0\"\n",
    "\n",
    "EMAIL = \"test@example.com\"\n",
    "PASSWORD = \"password123\"\n",
    "\n",
    "# --------------------\n",
    "# 1. Get Supabase Access Token\n",
    "# --------------------\n",
    "auth_res = requests.post(\n",
    "    f\"{SUPABASE_URL}/auth/v1/token?grant_type=password\",\n",
    "    headers={\n",
    "        \"apikey\": SUPABASE_KEY,\n",
    "        \"Content-Type\": \"application/json\"\n",
    "    },\n",
    "    json={\n",
    "        \"email\": EMAIL,\n",
    "        \"password\": PASSWORD\n",
    "    }\n",
    ")\n",
    "\n",
    "if auth_res.status_code != 200:\n",
    "    print(\"❌ Failed to log in:\", auth_res.status_code, auth_res.text)\n",
    "    exit(1)\n",
    "\n",
    "access_token = auth_res.json()[\"access_token\"]\n",
    "print(f\"✅ Logged in as {EMAIL}\")\n",
    "print(f\"Access Token: {access_token[:20]}...\")\n",
    "\n",
    "# --------------------\n",
    "# 2. Call /portfolios\n",
    "# --------------------\n",
    "headers = {\n",
    "    \"Authorization\": f\"Bearer {access_token}\"\n",
    "}\n",
    "\n",
    "portfolios_res = requests.get(f\"{BASE_URL}/portfolios\", headers=headers)\n",
    "\n",
    "print(\"\\nStatus:\", portfolios_res.status_code)\n",
    "try:\n",
    "    print(json.dumps(portfolios_res.json(), indent=4))\n",
    "except Exception:\n",
    "    print(portfolios_res.text)\n"
   ]
  },
  {
   "cell_type": "code",
   "execution_count": null,
   "id": "778c4c45",
   "metadata": {},
   "outputs": [
    {
     "name": "stdout",
     "output_type": "stream",
     "text": [
      "✅ Got token: eyJhbGciOiJIUzI1NiIs...\n",
      "\n",
      "📌 Response Status: 200\n",
      "📌 Response Body:\n",
      " {\n",
      "    \"id\": \"6e9fcc98-06ec-4f06-a81f-f31f99de616e\",\n",
      "    \"created_at\": \"2025-08-15T22:42:45.581734+00:00\",\n",
      "    \"name\": \"Create Test Portfolio\",\n",
      "    \"last_updated\": \"2025-08-15T22:42:45.581734+00:00\",\n",
      "    \"initial_investment\": 10000.0,\n",
      "    \"user_id\": \"d62c7b0a-4af1-4520-9f35-ec7825d8c227\"\n",
      "}\n"
     ]
    }
   ],
   "source": [
    "import requests\n",
    "import os\n",
    "import json\n",
    "\n",
    "# ======== CONFIG ========\n",
    "SUPABASE_URL = os.getenv(\"SUPABASE_URL\")\n",
    "SUPABASE_KEY = os.getenv(\"SUPABASE_SERVICE_ROLE_KEY\")  # or anon key if using public route\n",
    "API_BASE_URL = \"http://127.0.0.1:8000/api/1.0\"\n",
    "\n",
    "EMAIL = \"test@example.com\"\n",
    "PASSWORD = \"password123\"\n",
    "\n",
    "# ======== STEP 1: LOGIN TO GET TOKEN ========\n",
    "login_res = requests.post(\n",
    "    f\"{SUPABASE_URL}/auth/v1/token?grant_type=password\",\n",
    "    headers={\n",
    "        \"apikey\": SUPABASE_KEY,\n",
    "        \"Content-Type\": \"application/json\"\n",
    "    },\n",
    "    json={\n",
    "        \"email\": EMAIL,\n",
    "        \"password\": PASSWORD\n",
    "    }\n",
    ")\n",
    "\n",
    "if login_res.status_code != 200:\n",
    "    print(\"❌ Failed to log in:\", login_res.text)\n",
    "    exit()\n",
    "\n",
    "token = login_res.json()[\"access_token\"]\n",
    "print(\"✅ Got token:\", token[:20] + \"...\")\n",
    "\n",
    "# ======== STEP 2: CREATE PORTFOLIO ========\n",
    "\n",
    "create_res = requests.post(\n",
    "    f\"{API_BASE_URL}/portfolios\",\n",
    "    headers={\n",
    "        \"Authorization\": f\"Bearer {token}\",\n",
    "        \"Content-Type\": \"application/json\"\n",
    "    },\n",
    "    json={\n",
    "        \"name\": \"Create Test Portfolio\",\n",
    "        \"initial_investment\": 10000.00,\n",
    "    }\n",
    ")\n",
    "print(\"\\n📌 Response Status:\", create_res.status_code)\n",
    "print(\"📌 Response Body:\\n\", json.dumps(create_res.json(), indent=4))\n"
   ]
  },
  {
   "cell_type": "code",
   "execution_count": null,
   "id": "af8b9cf0",
   "metadata": {},
   "outputs": [
    {
     "name": "stdout",
     "output_type": "stream",
     "text": [
      "✅ Logged in as test@example.com\n",
      "Access Token: eyJhbGciOiJIUzI1NiIs...\n",
      "\n",
      "Status: 500\n",
      "Internal Server Error\n"
     ]
    }
   ],
   "source": [
    "import requests\n",
    "import os\n",
    "import json\n",
    "\n",
    "# --------------------\n",
    "# CONFIG\n",
    "# --------------------\n",
    "SUPABASE_URL = os.getenv(\"SUPABASE_URL\")\n",
    "SUPABASE_KEY = os.getenv(\"SUPABASE_SERVICE_ROLE_KEY\")\n",
    "BASE_URL = \"http://127.0.0.1:8000/api/1.0\"\n",
    "\n",
    "EMAIL = \"test@example.com\"\n",
    "PASSWORD = \"password123\"\n",
    "\n",
    "# Portfolio UUID you want to delete\n",
    "PORTFOLIO_ID = \"57867417-1da2-4bf9-8129-f707898f34c2\"\n",
    "\n",
    "# --------------------\n",
    "# 1. Get Supabase Access Token\n",
    "# --------------------\n",
    "auth_res = requests.post(\n",
    "    f\"{SUPABASE_URL}/auth/v1/token?grant_type=password\",\n",
    "    headers={\n",
    "        \"apikey\": SUPABASE_KEY,\n",
    "        \"Content-Type\": \"application/json\"\n",
    "    },\n",
    "    json={\n",
    "        \"email\": EMAIL,\n",
    "        \"password\": PASSWORD\n",
    "    }\n",
    ")\n",
    "\n",
    "if auth_res.status_code != 200:\n",
    "    print(\"❌ Failed to log in:\", auth_res.status_code, auth_res.text)\n",
    "    exit(1)\n",
    "\n",
    "access_token = auth_res.json()[\"access_token\"]\n",
    "print(f\"✅ Logged in as {EMAIL}\")\n",
    "print(f\"Access Token: {access_token[:20]}...\")\n",
    "\n",
    "# --------------------\n",
    "# 2. Delete Portfolio\n",
    "# --------------------\n",
    "headers = {\n",
    "    \"Authorization\": f\"Bearer {access_token}\"\n",
    "}\n",
    "\n",
    "delete_res = requests.delete(f\"{BASE_URL}/portfolios/{PORTFOLIO_ID}\", headers=headers)\n",
    "\n",
    "print(\"\\nStatus:\", delete_res.status_code)\n",
    "try:\n",
    "    print(json.dumps(delete_res.json(), indent=4))\n",
    "except Exception:\n",
    "    print(delete_res.text)\n"
   ]
  },
  {
   "cell_type": "code",
   "execution_count": null,
   "id": "0ec7eb05",
   "metadata": {},
   "outputs": [
    {
     "name": "stdout",
     "output_type": "stream",
     "text": [
      "✅ Logged in as test@example.com\n",
      "Access Token: eyJhbGciOiJIUzI1NiIs...\n",
      "\n",
      "Status: 200\n",
      "{\n",
      "    \"status\": \"success\",\n",
      "    \"positions\": [\n",
      "        {\n",
      "            \"portfolio_id\": \"591dd7f5-fff1-4041-ae74-3507688da719\",\n",
      "            \"ticker\": \"AMZN\",\n",
      "            \"quantity\": 10,\n",
      "            \"created_at\": \"2025-08-15T23:14:39.057363+00:00\",\n",
      "            \"updated_at\": \"2025-08-15T23:17:41.117032+00:00\"\n",
      "        }\n",
      "    ]\n",
      "}\n"
     ]
    }
   ],
   "source": [
    "import requests\n",
    "import os\n",
    "import json\n",
    "\n",
    "# --------------------\n",
    "# CONFIG\n",
    "# --------------------\n",
    "SUPABASE_URL = os.getenv(\"SUPABASE_URL\")\n",
    "SUPABASE_KEY = os.getenv(\"SUPABASE_SERVICE_ROLE_KEY\")\n",
    "BASE_URL = \"http://127.0.0.1:8000/api/1.0\"\n",
    "\n",
    "EMAIL = \"test@example.com\"\n",
    "PASSWORD = \"password123\"\n",
    "\n",
    "# Portfolio UUID you want to delete\n",
    "PORTFOLIO_ID = \"591dd7f5-fff1-4041-ae74-3507688da719\"\n",
    "\n",
    "# --------------------\n",
    "# 1. Get Supabase Access Token\n",
    "# --------------------\n",
    "auth_res = requests.post(\n",
    "    f\"{SUPABASE_URL}/auth/v1/token?grant_type=password\",\n",
    "    headers={\n",
    "        \"apikey\": SUPABASE_KEY,\n",
    "        \"Content-Type\": \"application/json\"\n",
    "    },\n",
    "    json={\n",
    "        \"email\": EMAIL,\n",
    "        \"password\": PASSWORD\n",
    "    }\n",
    ")\n",
    "\n",
    "if auth_res.status_code != 200:\n",
    "    print(\"❌ Failed to log in:\", auth_res.status_code, auth_res.text)\n",
    "    exit(1)\n",
    "\n",
    "access_token = auth_res.json()[\"access_token\"]\n",
    "print(f\"✅ Logged in as {EMAIL}\")\n",
    "print(f\"Access Token: {access_token[:20]}...\")\n",
    "\n",
    "# --------------------\n",
    "# 2. Delete Portfolio\n",
    "# --------------------\n",
    "headers = {\n",
    "    \"Authorization\": f\"Bearer {access_token}\"\n",
    "}\n",
    "\n",
    "delete_res = requests.get(f\"{BASE_URL}/portfolios/{PORTFOLIO_ID}/positions\", headers=headers)\n",
    "\n",
    "print(\"\\nStatus:\", delete_res.status_code)\n",
    "try:\n",
    "    print(json.dumps(delete_res.json(), indent=4))\n",
    "except Exception:\n",
    "    print(delete_res.text)\n"
   ]
  },
  {
   "cell_type": "code",
   "execution_count": null,
   "id": "0904a8ab",
   "metadata": {},
   "outputs": [
    {
     "name": "stdout",
     "output_type": "stream",
     "text": [
      "✅ Logged in as test@example.com\n",
      "Access Token: eyJhbGciOiJIUzI1NiIs...\n",
      "\n",
      "Status: 404\n",
      "{\n",
      "    \"detail\": \"Not Found\"\n",
      "}\n"
     ]
    }
   ],
   "source": [
    "import requests\n",
    "import os\n",
    "import json\n",
    "\n",
    "# --------------------\n",
    "# CONFIG\n",
    "# --------------------\n",
    "SUPABASE_URL = os.getenv(\"SUPABASE_URL\")\n",
    "SUPABASE_KEY = os.getenv(\"SUPABASE_SERVICE_ROLE_KEY\")\n",
    "BASE_URL = \"http://127.0.0.1:8000/api/1.0\"\n",
    "\n",
    "EMAIL = \"test@example.com\"\n",
    "PASSWORD = \"password123\"\n",
    "\n",
    "# Portfolio UUID\n",
    "PORTFOLIO_ID = \"591dd7f5-fff1-4041-ae74-3507688da719\"\n",
    "\n",
    "# --------------------\n",
    "# 1. Get Supabase Access Token\n",
    "# --------------------\n",
    "auth_res = requests.post(\n",
    "    f\"{SUPABASE_URL}/auth/v1/token?grant_type=password\",\n",
    "    headers={\n",
    "        \"apikey\": SUPABASE_KEY,\n",
    "        \"Content-Type\": \"application/json\"\n",
    "    },\n",
    "    json={\n",
    "        \"email\": EMAIL,\n",
    "        \"password\": PASSWORD\n",
    "    }\n",
    ")\n",
    "\n",
    "if auth_res.status_code != 200:\n",
    "    print(\"❌ Failed to log in:\", auth_res.status_code, auth_res.text)\n",
    "    exit(1)\n",
    "\n",
    "access_token = auth_res.json()[\"access_token\"]\n",
    "print(f\"✅ Logged in as {EMAIL}\")\n",
    "print(f\"Access Token: {access_token[:20]}...\")\n",
    "\n",
    "headers = {\n",
    "    \"Authorization\": f\"Bearer {access_token}\"\n",
    "}\n",
    "\n",
    "res = requests.get(f\"{BASE_URL}/portfolios/{PORTFOLIO_ID}/orders\", headers=headers)\n",
    "\n",
    "print(\"\\nStatus:\", res.status_code)\n",
    "try:\n",
    "    print(json.dumps(res.json(), indent=4))\n",
    "except Exception:\n",
    "    print(res.text)\n"
   ]
  }
 ],
 "metadata": {
  "kernelspec": {
   "display_name": "Python 3",
   "language": "python",
   "name": "python3"
  },
  "language_info": {
   "codemirror_mode": {
    "name": "ipython",
    "version": 3
   },
   "file_extension": ".py",
   "mimetype": "text/x-python",
   "name": "python",
   "nbconvert_exporter": "python",
   "pygments_lexer": "ipython3",
   "version": "3.13.0"
  }
 },
 "nbformat": 4,
 "nbformat_minor": 5
}
