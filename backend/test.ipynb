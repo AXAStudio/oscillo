{
 "cells": [
  {
   "cell_type": "code",
   "execution_count": 2,
   "id": "c2b08ce7",
   "metadata": {},
   "outputs": [
    {
     "ename": "ModuleNotFoundError",
     "evalue": "No module named 'requests'",
     "output_type": "error",
     "traceback": [
      "\u001b[0;31m---------------------------------------------------------------------------\u001b[0m",
      "\u001b[0;31mModuleNotFoundError\u001b[0m                       Traceback (most recent call last)",
      "Cell \u001b[0;32mIn[2], line 1\u001b[0m\n\u001b[0;32m----> 1\u001b[0m \u001b[38;5;28;01mimport\u001b[39;00m\u001b[38;5;250m \u001b[39m\u001b[38;5;21;01mrequests\u001b[39;00m\n\u001b[1;32m      2\u001b[0m \u001b[38;5;28;01mimport\u001b[39;00m\u001b[38;5;250m \u001b[39m\u001b[38;5;21;01mpandas\u001b[39;00m\u001b[38;5;250m \u001b[39m\u001b[38;5;28;01mas\u001b[39;00m\u001b[38;5;250m \u001b[39m\u001b[38;5;21;01mpd\u001b[39;00m\n\u001b[1;32m      4\u001b[0m \u001b[38;5;28;01mfrom\u001b[39;00m\u001b[38;5;250m \u001b[39m\u001b[38;5;21;01mio\u001b[39;00m\u001b[38;5;250m \u001b[39m\u001b[38;5;28;01mimport\u001b[39;00m StringIO\n",
      "\u001b[0;31mModuleNotFoundError\u001b[0m: No module named 'requests'"
     ]
    }
   ],
   "source": [
    "import requests\n",
    "import pandas as pd\n",
    "\n",
    "from io import StringIO\n",
    "\n",
    "import supabase\n"
   ]
  },
  {
   "cell_type": "code",
   "execution_count": 48,
   "id": "1485f66e",
   "metadata": {},
   "outputs": [],
   "source": [
    "base_url = \"http://127.0.0.1:8000/\"\n",
    "market_data_endpoint = base_url + \"market-data/\""
   ]
  },
  {
   "cell_type": "code",
   "execution_count": null,
   "id": "4a5e4db2",
   "metadata": {},
   "outputs": [
    {
     "data": {
      "text/plain": [
       "{'TSLA':                                 Close        High         Low        Open  \\\n",
       " 2025-08-13 13:30:00+00:00  345.089905  348.980011  340.239990  341.880005   \n",
       " 2025-08-13 14:30:00+00:00  340.785004  345.562408  338.549988  345.100006   \n",
       " 2025-08-13 15:30:00+00:00  341.300110  342.329987  340.200012  340.815002   \n",
       " 2025-08-13 16:30:00+00:00  341.505005  341.659912  339.250000  341.299988   \n",
       " 2025-08-13 17:30:00+00:00  340.225006  341.819794  338.230011  341.505005   \n",
       " 2025-08-13 18:30:00+00:00  340.720001  341.454987  339.200012  340.260010   \n",
       " 2025-08-13 19:30:00+00:00  339.339996  341.250000  339.200012  340.760010   \n",
       " \n",
       "                              Volume  \n",
       " 2025-08-13 13:30:00+00:00  23273591  \n",
       " 2025-08-13 14:30:00+00:00  12224375  \n",
       " 2025-08-13 15:30:00+00:00   6451030  \n",
       " 2025-08-13 16:30:00+00:00   6283472  \n",
       " 2025-08-13 17:30:00+00:00   6884780  \n",
       " 2025-08-13 18:30:00+00:00   5159534  \n",
       " 2025-08-13 19:30:00+00:00   4064061  ,\n",
       " 'AMZN':                                 Close        High         Low        Open  \\\n",
       " 2025-08-13 13:30:00+00:00  222.600006  224.918503  222.065002  222.639999   \n",
       " 2025-08-13 14:30:00+00:00  224.201004  224.880005  222.479996  222.600006   \n",
       " 2025-08-13 15:30:00+00:00  224.320007  224.585007  223.199997  224.205002   \n",
       " 2025-08-13 16:30:00+00:00  224.649994  224.699997  223.872498  224.315002   \n",
       " 2025-08-13 17:30:00+00:00  224.089996  224.710007  223.925003  224.660095   \n",
       " 2025-08-13 18:30:00+00:00  224.384995  224.585007  223.889999  224.095001   \n",
       " 2025-08-13 19:30:00+00:00  224.554993  224.808502  224.074997  224.389999   \n",
       " \n",
       "                              Volume  \n",
       " 2025-08-13 13:30:00+00:00  10009463  \n",
       " 2025-08-13 14:30:00+00:00   5559652  \n",
       " 2025-08-13 15:30:00+00:00   3875383  \n",
       " 2025-08-13 16:30:00+00:00   2821454  \n",
       " 2025-08-13 17:30:00+00:00   2679701  \n",
       " 2025-08-13 18:30:00+00:00   2466387  \n",
       " 2025-08-13 19:30:00+00:00   3688095  }"
      ]
     },
     "execution_count": 42,
     "metadata": {},
     "output_type": "execute_result"
    }
   ],
   "source": [
    "resp = requests.get(market_data_endpoint + \"historical?tickers=TSLA,AMZN&period=1d&interval=60m\").json()\n",
    "\n",
    "res = {}\n",
    "for ticker, df_json in resp.items():\n",
    "    res[ticker] = pd.read_json(\n",
    "        StringIO(df_json),\n",
    "        orient='index',\n",
    "        convert_dates=True\n",
    "    )\n",
    "\n",
    "res"
   ]
  },
  {
   "cell_type": "code",
   "execution_count": 49,
   "id": "1609d158",
   "metadata": {},
   "outputs": [
    {
     "data": {
      "text/plain": [
       "{'TSLA': {'Datetime': '2025-08-13T15:59:00-04:00',\n",
       "  'Open': 339.75,\n",
       "  'High': 339.80999755859375,\n",
       "  'Low': 339.20001220703125,\n",
       "  'Close': 339.3399963378906,\n",
       "  'Volume': 713716,\n",
       "  'Dividends': 0.0,\n",
       "  'Stock Splits': 0.0},\n",
       " 'AMZN': {'Datetime': '2025-08-13T15:59:00-04:00',\n",
       "  'Open': 224.6699981689453,\n",
       "  'High': 224.6699981689453,\n",
       "  'Low': 224.49000549316406,\n",
       "  'Close': 224.55499267578125,\n",
       "  'Volume': 751311,\n",
       "  'Dividends': 0.0,\n",
       "  'Stock Splits': 0.0}}"
      ]
     },
     "execution_count": 49,
     "metadata": {},
     "output_type": "execute_result"
    }
   ],
   "source": [
    "resp = requests.get(market_data_endpoint + \"prices?tickers=TSLA,AMZN\").json()\n",
    "resp"
   ]
  },
  {
   "cell_type": "code",
   "execution_count": 8,
   "id": "3db63a25",
   "metadata": {},
   "outputs": [
    {
     "name": "stdout",
     "output_type": "stream",
     "text": [
      "Collecting dotenv\n",
      "  Downloading dotenv-0.9.9-py2.py3-none-any.whl.metadata (279 bytes)\n",
      "Collecting python-dotenv (from dotenv)\n",
      "  Downloading python_dotenv-1.1.1-py3-none-any.whl.metadata (24 kB)\n",
      "Downloading dotenv-0.9.9-py2.py3-none-any.whl (1.9 kB)\n",
      "Downloading python_dotenv-1.1.1-py3-none-any.whl (20 kB)\n",
      "Installing collected packages: python-dotenv, dotenv\n",
      "Successfully installed dotenv-0.9.9 python-dotenv-1.1.1\n",
      "Note: you may need to restart the kernel to use updated packages.\n"
     ]
    },
    {
     "name": "stderr",
     "output_type": "stream",
     "text": [
      "  WARNING: The script dotenv.exe is installed in 'c:\\Users\\Andres Alonso\\AppData\\Local\\Programs\\Python\\Python313\\Scripts' which is not on PATH.\n",
      "  Consider adding this directory to PATH or, if you prefer to suppress this warning, use --no-warn-script-location.\n",
      "\n",
      "[notice] A new release of pip is available: 24.2 -> 25.2\n",
      "[notice] To update, run: python.exe -m pip install --upgrade pip\n"
     ]
    }
   ],
   "source": [
    "%pip install dotenv"
   ]
  },
  {
   "cell_type": "code",
   "execution_count": 6,
   "id": "190f3eb3",
   "metadata": {},
   "outputs": [],
   "source": [
    "import os\n",
    "from supabase import create_client, Client\n",
    "from dotenv import load_dotenv\n"
   ]
  },
  {
   "cell_type": "code",
   "execution_count": 22,
   "id": "43672ec9",
   "metadata": {},
   "outputs": [
    {
     "name": "stdout",
     "output_type": "stream",
     "text": [
      "✅ Logged in as test@example.com\n",
      "Access Token: eyJhbGciOiJIUzI1NiIs...\n",
      "\n",
      "Status: 200\n",
      "[\n",
      "    {\n",
      "        \"id\": \"591dd7f5-fff1-4041-ae74-3507688da719\",\n",
      "        \"created_at\": \"2025-08-14T17:08:27.123472+00:00\",\n",
      "        \"name\": \"Test Portfolio\",\n",
      "        \"last_updated\": \"2025-08-14T17:08:27.123472+00:00\",\n",
      "        \"initial_investment\": 5000.0,\n",
      "        \"capital\": 0.0,\n",
      "        \"user_id\": \"d62c7b0a-4af1-4520-9f35-ec7825d8c227\",\n",
      "        \"order_history\": [\n",
      "            {\n",
      "                \"id\": 1,\n",
      "                \"timestamp\": \"2025-08-14T17:12:49.375759+00:00\",\n",
      "                \"symbol\": \"AAPL\",\n",
      "                \"quantity\": 10,\n",
      "                \"price\": 145.23,\n",
      "                \"portfolio_id\": \"591dd7f5-fff1-4041-ae74-3507688da719\"\n",
      "            },\n",
      "            {\n",
      "                \"id\": 2,\n",
      "                \"timestamp\": \"2025-08-14T17:12:49.375759+00:00\",\n",
      "                \"symbol\": \"TSLA\",\n",
      "                \"quantity\": 5,\n",
      "                \"price\": 625.1,\n",
      "                \"portfolio_id\": \"591dd7f5-fff1-4041-ae74-3507688da719\"\n",
      "            }\n",
      "        ]\n",
      "    }\n",
      "]\n"
     ]
    }
   ],
   "source": [
    "# test_portfolios.py\n",
    "import requests\n",
    "import os\n",
    "import json\n",
    "\n",
    "\n",
    "# --------------------\n",
    "# CONFIG\n",
    "# --------------------\n",
    "SUPABASE_URL = os.getenv(\"SUPABASE_URL\")\n",
    "SUPABASE_KEY = os.getenv(\"SUPABASE_SERVICE_ROLE_KEY\")  # or anon key if email/password login\n",
    "BASE_URL = \"http://127.0.0.1:8000\"\n",
    "\n",
    "EMAIL = \"test@example.com\"\n",
    "PASSWORD = \"password123\"\n",
    "\n",
    "# --------------------\n",
    "# 1. Get Supabase Access Token\n",
    "# --------------------\n",
    "auth_res = requests.post(\n",
    "    f\"{SUPABASE_URL}/auth/v1/token?grant_type=password\",\n",
    "    headers={\n",
    "        \"apikey\": SUPABASE_KEY,\n",
    "        \"Content-Type\": \"application/json\"\n",
    "    },\n",
    "    json={\n",
    "        \"email\": EMAIL,\n",
    "        \"password\": PASSWORD\n",
    "    }\n",
    ")\n",
    "\n",
    "if auth_res.status_code != 200:\n",
    "    print(\"❌ Failed to log in:\", auth_res.status_code, auth_res.text)\n",
    "    exit(1)\n",
    "\n",
    "access_token = auth_res.json()[\"access_token\"]\n",
    "print(f\"✅ Logged in as {EMAIL}\")\n",
    "print(f\"Access Token: {access_token[:20]}...\")\n",
    "\n",
    "# --------------------\n",
    "# 2. Call /portfolios\n",
    "# --------------------\n",
    "headers = {\n",
    "    \"Authorization\": f\"Bearer {access_token}\"\n",
    "}\n",
    "\n",
    "portfolios_res = requests.get(f\"{BASE_URL}/portfolios\", headers=headers)\n",
    "\n",
    "print(\"\\nStatus:\", portfolios_res.status_code)\n",
    "try:\n",
    "    print(json.dumps(portfolios_res.json(), indent=4))\n",
    "except Exception:\n",
    "    print(portfolios_res.text)\n"
   ]
  },
  {
   "cell_type": "code",
   "execution_count": 30,
   "id": "778c4c45",
   "metadata": {},
   "outputs": [
    {
     "name": "stdout",
     "output_type": "stream",
     "text": [
      "✅ Got token: eyJhbGciOiJIUzI1NiIs...\n",
      "\n",
      "📌 Response Status: 200\n",
      "📌 Response Body:\n",
      " {\n",
      "    \"id\": \"17aa15eb-05a6-4fad-a1ae-d59c7781bd9e\",\n",
      "    \"created_at\": \"2025-08-15T19:29:57.520423+00:00\",\n",
      "    \"name\": \"Create Test Portfolio\",\n",
      "    \"last_updated\": \"2025-08-15T19:29:57.520423+00:00\",\n",
      "    \"initial_investment\": 10000.0,\n",
      "    \"user_id\": \"d62c7b0a-4af1-4520-9f35-ec7825d8c227\"\n",
      "}\n"
     ]
    }
   ],
   "source": [
    "import requests\n",
    "import os\n",
    "import json\n",
    "\n",
    "# ======== CONFIG ========\n",
    "SUPABASE_URL = os.getenv(\"SUPABASE_URL\")\n",
    "SUPABASE_KEY = os.getenv(\"SUPABASE_SERVICE_ROLE_KEY\")  # or anon key if using public route\n",
    "API_BASE_URL = \"http://127.0.0.1:8000\"\n",
    "\n",
    "EMAIL = \"test@example.com\"\n",
    "PASSWORD = \"password123\"\n",
    "\n",
    "# ======== STEP 1: LOGIN TO GET TOKEN ========\n",
    "login_res = requests.post(\n",
    "    f\"{SUPABASE_URL}/auth/v1/token?grant_type=password\",\n",
    "    headers={\n",
    "        \"apikey\": SUPABASE_KEY,\n",
    "        \"Content-Type\": \"application/json\"\n",
    "    },\n",
    "    json={\n",
    "        \"email\": EMAIL,\n",
    "        \"password\": PASSWORD\n",
    "    }\n",
    ")\n",
    "\n",
    "if login_res.status_code != 200:\n",
    "    print(\"❌ Failed to log in:\", login_res.text)\n",
    "    exit()\n",
    "\n",
    "token = login_res.json()[\"access_token\"]\n",
    "print(\"✅ Got token:\", token[:20] + \"...\")\n",
    "\n",
    "# ======== STEP 2: CREATE PORTFOLIO ========\n",
    "\n",
    "create_res = requests.post(\n",
    "    f\"{API_BASE_URL}/portfolios\",\n",
    "    headers={\n",
    "        \"Authorization\": f\"Bearer {token}\",\n",
    "        \"Content-Type\": \"application/json\"\n",
    "    },\n",
    "    json={\n",
    "        \"name\": \"Create Test Portfolio\",\n",
    "        \"initial_investment\": 10000.00,\n",
    "    }\n",
    ")\n",
    "print(\"\\n📌 Response Status:\", create_res.status_code)\n",
    "print(\"📌 Response Body:\\n\", json.dumps(create_res.json(), indent=4))\n"
   ]
  },
  {
   "cell_type": "code",
   "execution_count": 34,
   "id": "af8b9cf0",
   "metadata": {},
   "outputs": [
    {
     "name": "stdout",
     "output_type": "stream",
     "text": [
      "✅ Logged in as test@example.com\n",
      "Access Token: eyJhbGciOiJIUzI1NiIs...\n",
      "\n",
      "Status: 200\n",
      "{\n",
      "    \"message\": \"Portfolio 57867417-1da2-4bf9-8129-f707898f34c2 deleted successfully\"\n",
      "}\n"
     ]
    }
   ],
   "source": [
    "import requests\n",
    "import os\n",
    "import json\n",
    "\n",
    "# --------------------\n",
    "# CONFIG\n",
    "# --------------------\n",
    "SUPABASE_URL = os.getenv(\"SUPABASE_URL\")\n",
    "SUPABASE_KEY = os.getenv(\"SUPABASE_SERVICE_ROLE_KEY\")\n",
    "BASE_URL = \"http://127.0.0.1:8000\"\n",
    "\n",
    "EMAIL = \"test@example.com\"\n",
    "PASSWORD = \"password123\"\n",
    "\n",
    "# Portfolio UUID you want to delete\n",
    "PORTFOLIO_ID = \"57867417-1da2-4bf9-8129-f707898f34c2\"\n",
    "\n",
    "# --------------------\n",
    "# 1. Get Supabase Access Token\n",
    "# --------------------\n",
    "auth_res = requests.post(\n",
    "    f\"{SUPABASE_URL}/auth/v1/token?grant_type=password\",\n",
    "    headers={\n",
    "        \"apikey\": SUPABASE_KEY,\n",
    "        \"Content-Type\": \"application/json\"\n",
    "    },\n",
    "    json={\n",
    "        \"email\": EMAIL,\n",
    "        \"password\": PASSWORD\n",
    "    }\n",
    ")\n",
    "\n",
    "if auth_res.status_code != 200:\n",
    "    print(\"❌ Failed to log in:\", auth_res.status_code, auth_res.text)\n",
    "    exit(1)\n",
    "\n",
    "access_token = auth_res.json()[\"access_token\"]\n",
    "print(f\"✅ Logged in as {EMAIL}\")\n",
    "print(f\"Access Token: {access_token[:20]}...\")\n",
    "\n",
    "# --------------------\n",
    "# 2. Delete Portfolio\n",
    "# --------------------\n",
    "headers = {\n",
    "    \"Authorization\": f\"Bearer {access_token}\"\n",
    "}\n",
    "\n",
    "delete_res = requests.delete(f\"{BASE_URL}/portfolios/{PORTFOLIO_ID}\", headers=headers)\n",
    "\n",
    "print(\"\\nStatus:\", delete_res.status_code)\n",
    "try:\n",
    "    print(json.dumps(delete_res.json(), indent=4))\n",
    "except Exception:\n",
    "    print(delete_res.text)\n"
   ]
  },
  {
   "cell_type": "code",
   "execution_count": 37,
   "id": "0ec7eb05",
   "metadata": {},
   "outputs": [
    {
     "name": "stdout",
     "output_type": "stream",
     "text": [
      "✅ Logged in as test@example.com\n",
      "Access Token: eyJhbGciOiJIUzI1NiIs...\n",
      "\n",
      "Status: 200\n",
      "{\n",
      "    \"status\": \"success\",\n",
      "    \"positions\": [\n",
      "        {\n",
      "            \"portfolio_id\": \"591dd7f5-fff1-4041-ae74-3507688da719\",\n",
      "            \"ticker\": \"AMZN\",\n",
      "            \"quantity\": 10,\n",
      "            \"created_at\": \"2025-08-15T23:14:39.057363+00:00\",\n",
      "            \"updated_at\": \"2025-08-15T23:17:41.117032+00:00\"\n",
      "        }\n",
      "    ]\n",
      "}\n"
     ]
    }
   ],
   "source": [
    "import requests\n",
    "import os\n",
    "import json\n",
    "\n",
    "# --------------------\n",
    "# CONFIG\n",
    "# --------------------\n",
    "SUPABASE_URL = os.getenv(\"SUPABASE_URL\")\n",
    "SUPABASE_KEY = os.getenv(\"SUPABASE_SERVICE_ROLE_KEY\")\n",
    "BASE_URL = \"http://127.0.0.1:8000\"\n",
    "\n",
    "EMAIL = \"test@example.com\"\n",
    "PASSWORD = \"password123\"\n",
    "\n",
    "# Portfolio UUID you want to delete\n",
    "PORTFOLIO_ID = \"591dd7f5-fff1-4041-ae74-3507688da719\"\n",
    "\n",
    "# --------------------\n",
    "# 1. Get Supabase Access Token\n",
    "# --------------------\n",
    "auth_res = requests.post(\n",
    "    f\"{SUPABASE_URL}/auth/v1/token?grant_type=password\",\n",
    "    headers={\n",
    "        \"apikey\": SUPABASE_KEY,\n",
    "        \"Content-Type\": \"application/json\"\n",
    "    },\n",
    "    json={\n",
    "        \"email\": EMAIL,\n",
    "        \"password\": PASSWORD\n",
    "    }\n",
    ")\n",
    "\n",
    "if auth_res.status_code != 200:\n",
    "    print(\"❌ Failed to log in:\", auth_res.status_code, auth_res.text)\n",
    "    exit(1)\n",
    "\n",
    "access_token = auth_res.json()[\"access_token\"]\n",
    "print(f\"✅ Logged in as {EMAIL}\")\n",
    "print(f\"Access Token: {access_token[:20]}...\")\n",
    "\n",
    "# --------------------\n",
    "# 2. Delete Portfolio\n",
    "# --------------------\n",
    "headers = {\n",
    "    \"Authorization\": f\"Bearer {access_token}\"\n",
    "}\n",
    "\n",
    "delete_res = requests.get(f\"{BASE_URL}/portfolios/{PORTFOLIO_ID}/positions\", headers=headers)\n",
    "\n",
    "print(\"\\nStatus:\", delete_res.status_code)\n",
    "try:\n",
    "    print(json.dumps(delete_res.json(), indent=4))\n",
    "except Exception:\n",
    "    print(delete_res.text)\n"
   ]
  },
  {
   "cell_type": "code",
   "execution_count": null,
   "id": "0904a8ab",
   "metadata": {},
   "outputs": [
    {
     "ename": "ImportError",
     "evalue": "attempted relative import with no known parent package",
     "output_type": "error",
     "traceback": [
      "\u001b[31m---------------------------------------------------------------------------\u001b[39m",
      "\u001b[31mImportError\u001b[39m                               Traceback (most recent call last)",
      "\u001b[36mCell\u001b[39m\u001b[36m \u001b[39m\u001b[32mIn[41]\u001b[39m\u001b[32m, line 1\u001b[39m\n\u001b[32m----> \u001b[39m\u001b[32m1\u001b[39m \u001b[38;5;28;01mfrom\u001b[39;00m\u001b[38;5;250m \u001b[39m\u001b[34;01m.\u001b[39;00m\u001b[34;01mutils\u001b[39;00m\u001b[34;01m.\u001b[39;00m\u001b[34;01mmarket_data\u001b[39;00m\u001b[38;5;250m \u001b[39m\u001b[38;5;28;01mimport\u001b[39;00m verify_ticker\n\u001b[32m      3\u001b[39m verify_ticker(\u001b[33m\"\u001b[39m\u001b[33mTSLA\u001b[39m\u001b[33m\"\u001b[39m)\n",
      "\u001b[31mImportError\u001b[39m: attempted relative import with no known parent package"
     ]
    }
   ],
   "source": [
    "from app.utils.market_data import verify_ticker\n",
    "\n",
    "verify_ticker(\"TSLA\")"
   ]
  }
 ],
 "metadata": {
  "kernelspec": {
   "display_name": "Python 3",
   "language": "python",
   "name": "python3"
  },
  "language_info": {
   "codemirror_mode": {
    "name": "ipython",
    "version": 3
   },
   "file_extension": ".py",
   "mimetype": "text/x-python",
   "name": "python",
   "nbconvert_exporter": "python",
   "pygments_lexer": "ipython3",
   "version": "3.13.6"
  }
 },
 "nbformat": 4,
 "nbformat_minor": 5
}
