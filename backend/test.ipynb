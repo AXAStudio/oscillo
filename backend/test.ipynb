{
 "cells": [
  {
   "cell_type": "code",
   "execution_count": 41,
   "id": "c2b08ce7",
   "metadata": {},
   "outputs": [],
   "source": [
    "import requests\n",
    "import pandas as pd\n",
    "\n",
    "from io import StringIO\n"
   ]
  },
  {
   "cell_type": "code",
   "execution_count": 48,
   "id": "1485f66e",
   "metadata": {},
   "outputs": [],
   "source": [
    "base_url = \"http://127.0.0.1:8000/\"\n",
    "market_data_endpoint = base_url + \"market-data/\""
   ]
  },
  {
   "cell_type": "code",
   "execution_count": null,
   "id": "4a5e4db2",
   "metadata": {},
   "outputs": [
    {
     "data": {
      "text/plain": [
       "{'TSLA':                                 Close        High         Low        Open  \\\n",
       " 2025-08-13 13:30:00+00:00  345.089905  348.980011  340.239990  341.880005   \n",
       " 2025-08-13 14:30:00+00:00  340.785004  345.562408  338.549988  345.100006   \n",
       " 2025-08-13 15:30:00+00:00  341.300110  342.329987  340.200012  340.815002   \n",
       " 2025-08-13 16:30:00+00:00  341.505005  341.659912  339.250000  341.299988   \n",
       " 2025-08-13 17:30:00+00:00  340.225006  341.819794  338.230011  341.505005   \n",
       " 2025-08-13 18:30:00+00:00  340.720001  341.454987  339.200012  340.260010   \n",
       " 2025-08-13 19:30:00+00:00  339.339996  341.250000  339.200012  340.760010   \n",
       " \n",
       "                              Volume  \n",
       " 2025-08-13 13:30:00+00:00  23273591  \n",
       " 2025-08-13 14:30:00+00:00  12224375  \n",
       " 2025-08-13 15:30:00+00:00   6451030  \n",
       " 2025-08-13 16:30:00+00:00   6283472  \n",
       " 2025-08-13 17:30:00+00:00   6884780  \n",
       " 2025-08-13 18:30:00+00:00   5159534  \n",
       " 2025-08-13 19:30:00+00:00   4064061  ,\n",
       " 'AMZN':                                 Close        High         Low        Open  \\\n",
       " 2025-08-13 13:30:00+00:00  222.600006  224.918503  222.065002  222.639999   \n",
       " 2025-08-13 14:30:00+00:00  224.201004  224.880005  222.479996  222.600006   \n",
       " 2025-08-13 15:30:00+00:00  224.320007  224.585007  223.199997  224.205002   \n",
       " 2025-08-13 16:30:00+00:00  224.649994  224.699997  223.872498  224.315002   \n",
       " 2025-08-13 17:30:00+00:00  224.089996  224.710007  223.925003  224.660095   \n",
       " 2025-08-13 18:30:00+00:00  224.384995  224.585007  223.889999  224.095001   \n",
       " 2025-08-13 19:30:00+00:00  224.554993  224.808502  224.074997  224.389999   \n",
       " \n",
       "                              Volume  \n",
       " 2025-08-13 13:30:00+00:00  10009463  \n",
       " 2025-08-13 14:30:00+00:00   5559652  \n",
       " 2025-08-13 15:30:00+00:00   3875383  \n",
       " 2025-08-13 16:30:00+00:00   2821454  \n",
       " 2025-08-13 17:30:00+00:00   2679701  \n",
       " 2025-08-13 18:30:00+00:00   2466387  \n",
       " 2025-08-13 19:30:00+00:00   3688095  }"
      ]
     },
     "execution_count": 42,
     "metadata": {},
     "output_type": "execute_result"
    }
   ],
   "source": [
    "resp = requests.get(market_data_endpoint + \"historical?tickers=TSLA,AMZN&period=1d&interval=60m\").json()\n",
    "\n",
    "res = {}\n",
    "for ticker, df_json in resp.items():\n",
    "    res[ticker] = pd.read_json(\n",
    "        StringIO(df_json),\n",
    "        orient='index',\n",
    "        convert_dates=True\n",
    "    )\n",
    "\n",
    "res"
   ]
  },
  {
   "cell_type": "code",
   "execution_count": 49,
   "id": "1609d158",
   "metadata": {},
   "outputs": [
    {
     "data": {
      "text/plain": [
       "{'TSLA': {'Datetime': '2025-08-13T15:59:00-04:00',\n",
       "  'Open': 339.75,\n",
       "  'High': 339.80999755859375,\n",
       "  'Low': 339.20001220703125,\n",
       "  'Close': 339.3399963378906,\n",
       "  'Volume': 713716,\n",
       "  'Dividends': 0.0,\n",
       "  'Stock Splits': 0.0},\n",
       " 'AMZN': {'Datetime': '2025-08-13T15:59:00-04:00',\n",
       "  'Open': 224.6699981689453,\n",
       "  'High': 224.6699981689453,\n",
       "  'Low': 224.49000549316406,\n",
       "  'Close': 224.55499267578125,\n",
       "  'Volume': 751311,\n",
       "  'Dividends': 0.0,\n",
       "  'Stock Splits': 0.0}}"
      ]
     },
     "execution_count": 49,
     "metadata": {},
     "output_type": "execute_result"
    }
   ],
   "source": [
    "resp = requests.get(market_data_endpoint + \"prices?tickers=TSLA,AMZN\").json()\n",
    "resp"
   ]
  }
 ],
 "metadata": {
  "kernelspec": {
   "display_name": "Python 3",
   "language": "python",
   "name": "python3"
  },
  "language_info": {
   "codemirror_mode": {
    "name": "ipython",
    "version": 3
   },
   "file_extension": ".py",
   "mimetype": "text/x-python",
   "name": "python",
   "nbconvert_exporter": "python",
   "pygments_lexer": "ipython3",
   "version": "3.13.0"
  }
 },
 "nbformat": 4,
 "nbformat_minor": 5
}
